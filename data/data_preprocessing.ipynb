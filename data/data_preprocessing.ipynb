{
 "cells": [
  {
   "cell_type": "code",
   "execution_count": 14,
   "metadata": {},
   "outputs": [
    {
     "name": "stdout",
     "output_type": "stream",
     "text": [
      "Saved Version 1: 1894–1995 → movies_v1.csv (44893 movies)\n",
      "Saved Version 2: 1996–2014 → movies_v2.csv (44806 movies)\n",
      "Saved Version 3: 2015–2025 → movies_v3.csv (42981 movies)\n"
     ]
    }
   ],
   "source": [
    "import pandas as pd\n",
    "import os\n",
    "\n",
    "def load_and_prepare_data(train_path, test_path):\n",
    "    train_df = pd.read_csv(train_path)\n",
    "    test_df = pd.read_csv(test_path)\n",
    "    df = pd.concat([train_df, test_df], ignore_index=True)\n",
    "    drop_cols = ['tconst', 'originalTitle', 'directors', 'writers', 'top_actors']\n",
    "    df = df.drop(columns=drop_cols)\n",
    "    df = df[df['startYear'].notna()]\n",
    "    df['startYear'] = df['startYear'].astype(int)\n",
    "    return df\n",
    "\n",
    "def get_balanced_year_partitions(df, target_size=44226):\n",
    "    year_counts = df['startYear'].value_counts().sort_index()\n",
    "    partitions = []\n",
    "    current_partition = []\n",
    "    current_total = 0\n",
    "    start_year = None\n",
    "\n",
    "    for year, count in year_counts.items():\n",
    "        if start_year is None:\n",
    "            start_year = year\n",
    "        current_partition.append(year)\n",
    "        current_total += count\n",
    "\n",
    "        if current_total >= target_size:\n",
    "            end_year = year\n",
    "            partitions.append((start_year, end_year))\n",
    "            start_year = None\n",
    "            current_partition = []\n",
    "            current_total = 0\n",
    "\n",
    "    if start_year is not None:\n",
    "        end_year = year_counts.index[-1]\n",
    "        partitions.append((start_year, end_year))\n",
    "\n",
    "    return partitions\n",
    "\n",
    "def split_and_save(df, partitions, output_dir=\"\"):\n",
    "    for i, (start, end) in enumerate(partitions, 1):\n",
    "        partition_df = df[df['startYear'].between(start, end)]\n",
    "        partition_df = partition_df.sample(frac=1, random_state=42).reset_index(drop=True)  # Shuffle\n",
    "        out_path = os.path.join(output_dir, f\"movies_v{i}.csv\")\n",
    "        partition_df.to_csv(out_path, index=False)\n",
    "        print(f\"Saved Version {i}: {start}–{end} → {out_path} ({len(partition_df)} movies)\")\n",
    "\n",
    "# Run the process\n",
    "df = load_and_prepare_data(\"imdb_train_data.csv\", \"imdb_test_data.csv\")\n",
    "partitions = get_balanced_year_partitions(df)\n",
    "split_and_save(df, partitions)\n"
   ]
  },
  {
   "cell_type": "code",
   "execution_count": 15,
   "metadata": {},
   "outputs": [
    {
     "data": {
      "text/plain": [
       "Index(['primaryTitle', 'startYear', 'runtimeMinutes', 'genres',\n",
       "       'averageRating', 'numVotes'],\n",
       "      dtype='object')"
      ]
     },
     "execution_count": 15,
     "metadata": {},
     "output_type": "execute_result"
    }
   ],
   "source": [
    "df.columns"
   ]
  },
  {
   "cell_type": "code",
   "execution_count": null,
   "metadata": {},
   "outputs": [],
   "source": []
  }
 ],
 "metadata": {
  "kernelspec": {
   "display_name": "Python 3",
   "language": "python",
   "name": "python3"
  },
  "language_info": {
   "codemirror_mode": {
    "name": "ipython",
    "version": 3
   },
   "file_extension": ".py",
   "mimetype": "text/x-python",
   "name": "python",
   "nbconvert_exporter": "python",
   "pygments_lexer": "ipython3",
   "version": "3.10.0"
  }
 },
 "nbformat": 4,
 "nbformat_minor": 2
}
